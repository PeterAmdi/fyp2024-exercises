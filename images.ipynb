{
 "cells": [
  {
   "cell_type": "markdown",
   "metadata": {},
   "source": [
    "# Projects in data science: Images"
   ]
  },
  {
   "cell_type": "markdown",
   "metadata": {},
   "source": [
    "Help for some exercises can be found in the notebook seen during class: https://colab.research.google.com/drive/10p3hoY3mTWSXeIdbjPNMIbwilLbiSN90"
   ]
  },
  {
   "cell_type": "markdown",
   "metadata": {},
   "source": [
    "## From array to grayscale image\n"
   ]
  },
  {
   "cell_type": "markdown",
   "metadata": {},
   "source": [
    "**Exercises**:\n",
    "1. Use *numpy* (for example, [the repeat function](https://numpy.org/doc/stable/reference/generated/numpy.repeat.html)) to create a 5x5 pixel array with 0s and 1s. You can try to create a pattern such as stripes or checkboard\n",
    "2. Set the middle pixel to 0.5\n",
    "3. In another variable, store the mutliplication of your image by 255. Check that the dimensions of both images are the same\n",
    "4. Display both images with [*matplotlib*](https://matplotlib.org/stable/api/_as_gen/matplotlib.pyplot.imshow.html). What do you see ? What do you need to do, to make the images appear black and white?\n"
   ]
  },
  {
   "cell_type": "code",
   "execution_count": 1,
   "metadata": {},
   "outputs": [],
   "source": [
    "#Your answer\n",
    "import numpy as np\n",
    "import matplotlib.pyplot as plt"
   ]
  },
  {
   "cell_type": "markdown",
   "metadata": {},
   "source": [
    "**Your comments:**"
   ]
  },
  {
   "cell_type": "markdown",
   "metadata": {},
   "source": [
    "## Color image"
   ]
  },
  {
   "cell_type": "markdown",
   "metadata": {},
   "source": [
    "**Exercises:**\n",
    "1. Now try to create a 5x5 color checkerboard with random colors. This can be done in 1 line with [the randint function from numpy.random](https://numpy.org/doc/stable/reference/random/generated/numpy.random.randint.html). Display the image.\n",
    "2. If you run this code multiple time, the image will change. For the image to stay the same, you need to define [the random seed](https://numpy.org/doc/stable/reference/random/generated/numpy.random.seed.html)\n",
    "3. Compare how you would describe the colors, to the RGB values of the pixels. Are you able to define what kind of values would translate into for example red, brown, or yellow?\n",
    "4. Display the R,G,B channels as images separately. Do the individual values\n",
    "tell you enough about the colors of the pixels?"
   ]
  },
  {
   "cell_type": "code",
   "execution_count": 2,
   "metadata": {},
   "outputs": [],
   "source": [
    "#Your answer"
   ]
  },
  {
   "cell_type": "markdown",
   "metadata": {},
   "source": [
    "**Your comments**:"
   ]
  },
  {
   "cell_type": "markdown",
   "metadata": {},
   "source": [
    "## Resizing an image"
   ]
  },
  {
   "cell_type": "markdown",
   "metadata": {},
   "source": [
    "**Exercises**:\n",
    "1. Load a color image using [*scikit image*](https://scikit-image.org/docs/stable/api/skimage.io.html#skimage.io.imread), it can be an image from the dataset, from the exemple_data folder or a photo of your choice that’s at least 500x500 pixels. Store the original size in pixels, and the original [size in bytes](https://docs.python.org/3/library/sys.html#sys.getsizeof), in different variables.\n",
    "2. Explore the documentation for [skimage.transform](https://scikit-image.org/docs/stable/api/skimage.transform.html). Try to resize the image to 20% of its size in each dimension, and save the image as a different file. Record the new size in bytes, how much does it change?\n",
    "3. Explore the documentation for [skimage.util](https://scikit-image.org/docs/stable/api/skimage.util.html) which has several functions for converting the image to different formats. Can you decrease the image size in bytes, without changing the image size in pixels? How does this affect the image quality?"
   ]
  },
  {
   "cell_type": "code",
   "execution_count": 3,
   "metadata": {},
   "outputs": [],
   "source": [
    "#Your answer\n",
    "import skimage.io as io\n",
    "from skimage.transform import resize\n",
    "from skimage.util import img_as_float32\n",
    "import sys"
   ]
  },
  {
   "cell_type": "markdown",
   "metadata": {},
   "source": [
    "**Your comments**:"
   ]
  },
  {
   "cell_type": "markdown",
   "metadata": {},
   "source": [
    "## Cropping image based on the mask"
   ]
  },
  {
   "cell_type": "markdown",
   "metadata": {},
   "source": [
    "**Exercises**:\n",
    "1. Load an image and its mask, store these in im and mask\n",
    "2. Use [the numpy package](https://numpy.org/doc/stable/reference/generated/numpy.where.html) together with mask to find out the minimum/maximum coordinates where the lesion is present.\n",
    "3. Create padded image, which extracts only the lesion from the image, with a bit of padding on each side"
   ]
  },
  {
   "cell_type": "code",
   "execution_count": 4,
   "metadata": {},
   "outputs": [],
   "source": [
    "#Your answer"
   ]
  },
  {
   "cell_type": "markdown",
   "metadata": {},
   "source": [
    "**Your comments**:"
   ]
  },
  {
   "cell_type": "markdown",
   "metadata": {},
   "source": [
    "## The Dice Score"
   ]
  },
  {
   "cell_type": "markdown",
   "metadata": {},
   "source": [
    "**Exercises**:\n",
    "1. Implement the Dice score for 2 binary masks\n",
    "2. Use numpy to create arrays with different configurations of 0s and 1s.\n",
    "3. Compare the Dice score obtained for each of these arrays on your ground-truth mask"
   ]
  },
  {
   "cell_type": "code",
   "execution_count": null,
   "metadata": {},
   "outputs": [],
   "source": [
    "#Your answer"
   ]
  },
  {
   "cell_type": "markdown",
   "metadata": {},
   "source": [
    "**Your comments**:"
   ]
  }
 ],
 "metadata": {
  "kernelspec": {
   "display_name": "PublicDataset",
   "language": "python",
   "name": "python3"
  },
  "language_info": {
   "codemirror_mode": {
    "name": "ipython",
    "version": 3
   },
   "file_extension": ".py",
   "mimetype": "text/x-python",
   "name": "python",
   "nbconvert_exporter": "python",
   "pygments_lexer": "ipython3",
   "version": "3.12.0"
  }
 },
 "nbformat": 4,
 "nbformat_minor": 2
}
